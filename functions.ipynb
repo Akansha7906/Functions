{
  "nbformat": 4,
  "nbformat_minor": 0,
  "metadata": {
    "colab": {
      "provenance": [],
      "toc_visible": true
    },
    "kernelspec": {
      "name": "python3",
      "display_name": "Python 3"
    },
    "language_info": {
      "name": "python"
    }
  },
  "cells": [
    {
      "cell_type": "code",
      "execution_count": null,
      "metadata": {
        "id": "XGPdu3Y-TZp8"
      },
      "outputs": [],
      "source": []
    },
    {
      "cell_type": "markdown",
      "source": [
        "Q1. What is Python, and why is it popular?\n",
        "\n",
        "--**Python** is a high-level, interpreted programming language known for its simple and readable syntax. It supports multiple programming paradigms, including object-oriented, procedural, and functional programming.\n",
        "\n",
        "**Why it is popular:**\n",
        "\n",
        "* Easy to learn and use\n",
        "* Large standard library and community support\n",
        "* Versatile (used in web development, data science, AI, automation, etc.)\n",
        "* Cross-platform compatibility\n",
        "\n",
        "\n"
      ],
      "metadata": {
        "id": "4FaDuCWGTe_r"
      }
    },
    {
      "cell_type": "code",
      "source": [
        "print(\"hello world\")"
      ],
      "metadata": {
        "colab": {
          "base_uri": "https://localhost:8080/"
        },
        "id": "n13_DAnRUy63",
        "outputId": "19c5f810-18d7-4d76-a383-779bb65d65ba"
      },
      "execution_count": null,
      "outputs": [
        {
          "output_type": "stream",
          "name": "stdout",
          "text": [
            "hello world\n"
          ]
        }
      ]
    },
    {
      "cell_type": "code",
      "source": [],
      "metadata": {
        "id": "4QwZuVweVCO1"
      },
      "execution_count": null,
      "outputs": []
    }
  ]
}